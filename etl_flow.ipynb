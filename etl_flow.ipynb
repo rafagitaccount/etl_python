{
 "cells": [
  {
   "cell_type": "code",
   "execution_count": 9,
   "metadata": {},
   "outputs": [
    {
     "name": "stdout",
     "output_type": "stream",
     "text": [
      "[246, 247, 248]\n"
     ]
    }
   ],
   "source": [
    "#TODO Extrair os IDS do arquivo CSV\n",
    "import pandas as pd\n",
    "\n",
    "df = pd.read_csv(\"SDW2023.csv\")\n",
    "user_ids = df['UserID'].tolist()\n",
    "print(user_ids)\n"
   ]
  },
  {
   "cell_type": "code",
   "execution_count": null,
   "metadata": {},
   "outputs": [],
   "source": [
    "#TODO Obter os dados de cada ID usando a API da Santander Dev Week 2023\n",
    "import requests\n",
    "import json\n",
    "\n",
    "DW2023_API_URL = 'https://sdw-2023-prd.up.railway.app'\n",
    "\n",
    "def get_user(id):\n",
    "    response = requests.get(f'{DW2023_API_URL}/users/{id}')\n",
    "    return response.json() if response.status_code == 200 else None\n",
    "\n",
    "users = [user for id in user_ids if (user := get_user(id)) is not None]\n",
    "print(json.dumps(users, indent=2))\n",
    "\n"
   ]
  }
 ],
 "metadata": {
  "kernelspec": {
   "display_name": "venv",
   "language": "python",
   "name": "python3"
  },
  "language_info": {
   "codemirror_mode": {
    "name": "ipython",
    "version": 3
   },
   "file_extension": ".py",
   "mimetype": "text/x-python",
   "name": "python",
   "nbconvert_exporter": "python",
   "pygments_lexer": "ipython3",
   "version": "3.11.4"
  },
  "orig_nbformat": 4
 },
 "nbformat": 4,
 "nbformat_minor": 2
}
